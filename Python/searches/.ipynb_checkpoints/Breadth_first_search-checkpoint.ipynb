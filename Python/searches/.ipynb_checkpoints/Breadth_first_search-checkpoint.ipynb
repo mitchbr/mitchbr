{
 "cells": [
  {
   "cell_type": "code",
   "execution_count": 2,
   "metadata": {},
   "outputs": [
    {
     "data": {
      "text/plain": [
       "<matplotlib.image.AxesImage at 0x10c2f9eb8>"
      ]
     },
     "execution_count": 2,
     "metadata": {},
     "output_type": "execute_result"
    },
    {
     "data": {
      "image/png": "[encoded data removed]",
      "text/plain": [
       "<matplotlib.figure.Figure at 0x10689ec18>"
      ]
     },
     "metadata": {},
     "output_type": "display_data"
    }
   ],
   "source": [
    "import numpy as np\n",
    "import pandas as pd\n",
    "import matplotlib.pyplot as plt\n",
    "\n",
    "# Import the world\n",
    "rawworld = np.genfromtxt('world.csv', delimiter=',')\n",
    "\n",
    "# Transfer world into a new array with walls all around to avoid edge cases\n",
    "world = np.ones((np.size(rawworld,1)+2,np.size(rawworld,1)+2))\n",
    "world[1:-1,1:-1] = rawworld\n",
    "\n",
    "plt.imshow(world, cmap='binary')"
   ]
  },
  {
   "cell_type": "code",
   "execution_count": 3,
   "metadata": {},
   "outputs": [],
   "source": [
    "start = [1,1]\n",
    "finish = [20,20]"
   ]
  },
  {
   "cell_type": "code",
   "execution_count": 45,
   "metadata": {},
   "outputs": [
    {
     "name": "stdout",
     "output_type": "stream",
     "text": [
      "[[1, 2], [1, 1]]\n",
      "[[1, 1], [1, 1]]\n",
      "[[2, 1], [1, 1]]\n"
     ]
    }
   ],
   "source": [
    "# queue contains open nodes\n",
    "queue = [[start,start]]\n",
    "\n",
    "# closed contains closed nodes\n",
    "closed = []\n",
    "\n",
    "# Iterate while queue has items in it\n",
    "while queue:\n",
    "    print(node)\n",
    "    # Pull the node off the queue\n",
    "    node = queue.pop(0)\n",
    "\n",
    "    # Add the current node to closed, preventing it from being opened later\n",
    "    closed.append(node)\n",
    "\n",
    "    # Check if an unknown cell has been reached\n",
    "    if node[0] == finish:\n",
    "            print(\"Found\")\n",
    "            queue = []\n",
    "\n",
    "    # Open children in a 4-connected region\n",
    "    # Only opens if it is not already in the queue, has not been closed, and is not a wall\n",
    "    for x in [-1,1]:\n",
    "        if not any([i for i in range(len(queue)) if queue[i][0] == node[0]]) and not any([i for i in range(len(closed)) if closed[i][0] == node[0]]) and world[node[0][0]+x][node[0][1]] != 1:\n",
    "            queue.append([[node[0][0]+x,node[0][1]], node[0]])\n",
    "        if not any([i for i in range(len(queue)) if queue[i][0] == node[0]]) and not any([i for i in range(len(closed)) if closed[i][0] == node[0]]) and world[node[0][0]][node[0][1]+x] != 1:\n",
    "            queue.append([[node[0][0],node[0][1]+x], node[0]])\n",
    "            \n",
    "            \n",
    "            "
   ]
  },
  {
   "cell_type": "code",
   "execution_count": 43,
   "metadata": {},
   "outputs": [
    {
     "data": {
      "text/plain": [
       "[[1, 1], [2, 1], [1, 2]]"
      ]
     },
     "execution_count": 43,
     "metadata": {},
     "output_type": "execute_result"
    }
   ],
   "source": [
    "closed"
   ]
  },
  {
   "cell_type": "code",
   "execution_count": 44,
   "metadata": {},
   "outputs": [
    {
     "data": {
      "text/plain": [
       "[1, 2]"
      ]
     },
     "execution_count": 44,
     "metadata": {},
     "output_type": "execute_result"
    }
   ],
   "source": [
    "node[0]"
   ]
  },
  {
   "cell_type": "code",
   "execution_count": null,
   "metadata": {},
   "outputs": [],
   "source": []
  }
 ],
 "metadata": {
  "kernelspec": {
   "display_name": "Python 3",
   "language": "python",
   "name": "python3"
  },
  "language_info": {
   "codemirror_mode": {
    "name": "ipython",
    "version": 3
   },
   "file_extension": ".py",
   "mimetype": "text/x-python",
   "name": "python",
   "nbconvert_exporter": "python",
   "pygments_lexer": "ipython3",
   "version": "3.6.4"
  }
 },
 "nbformat": 4,
 "nbformat_minor": 2
}
