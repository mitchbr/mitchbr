{
 "cells": [
  {
   "cell_type": "code",
   "execution_count": 84,
   "metadata": {},
   "outputs": [
    {
     "data": {
      "text/plain": [
       "<matplotlib.image.AxesImage at 0x11c693400>"
      ]
     },
     "execution_count": 84,
     "metadata": {},
     "output_type": "execute_result"
    },
    {
     "data": {
      "image/png": "[encoded data removed]",
      "text/plain": [
       "<matplotlib.figure.Figure at 0x11bd89fd0>"
      ]
     },
     "metadata": {},
     "output_type": "display_data"
    }
   ],
   "source": [
    "import numpy as np\n",
    "import pandas as pd\n",
    "import matplotlib.pyplot as plt\n",
    "\n",
    "# Import the world\n",
    "rawworld = np.genfromtxt('world.csv', delimiter=',')\n",
    "\n",
    "# Transfer world into a new array with walls all around to avoid edge cases\n",
    "world = np.ones((np.size(rawworld,1)+2,np.size(rawworld,1)+2))\n",
    "world[1:-1,1:-1] = rawworld\n",
    "\n",
    "plt.imshow(world, cmap='binary')"
   ]
  },
  {
   "cell_type": "code",
   "execution_count": 85,
   "metadata": {},
   "outputs": [],
   "source": [
    "# Starting and ending points\n",
    "start = [1,1]\n",
    "end = [20,20]"
   ]
  },
  {
   "cell_type": "code",
   "execution_count": 86,
   "metadata": {},
   "outputs": [
    {
     "data": {
      "image/png": "[encoded data removed]",
      "text/plain": [
       "<matplotlib.figure.Figure at 0x11839d0b8>"
      ]
     },
     "metadata": {},
     "output_type": "display_data"
    }
   ],
   "source": [
    "# Queue row data: current node x and y, heuristic cost, cost from origin, total score, parent node\n",
    "queue = [[start, 0, 0, 0, start]]\n",
    "# Closed list, prevents nodes from being opened more than once\n",
    "closed = []\n",
    "\n",
    "# Show the world to map nodes which have been opened\n",
    "plt.imshow(world, cmap='binary')\n",
    "\n",
    "# Find children in the queue (4-connected)\n",
    "while queue:\n",
    "    \n",
    "    # Remove node from queue, add to closed nodes, plot the node\n",
    "    node = queue.pop(0)\n",
    "    closed.append(node)\n",
    "    plt.plot(node[0][1],node[0][0], marker='o', color='red')\n",
    "    \n",
    "    # End when at goal\n",
    "    if node[0] == end:\n",
    "        queue = []\n",
    "        \n",
    "    for x in [-1,1]:\n",
    "    \n",
    "        # Open children if they are not in closed and are not a wall\n",
    "        if not any([node[0][0]+x,node[0][1]] == closed[i][0] for i in range(len(closed))) and world[node[0][0]+x][node[0][1]] != 1:\n",
    "            \n",
    "            # Find current heuristic and path cost\n",
    "            oCost = node[2] + 1\n",
    "            hDist = np.sqrt((end[0] - node[0][0]+x)**2 + (end[1] - node[0][1])**2)\n",
    "            \n",
    "            if not any([node[0][0]+x,node[0][1]] == queue[i][0] for i in range(len(queue))):\n",
    "                # Append node child to queue if it is not yet in it\n",
    "                queue.append([[node[0][0]+x,node[0][1]], hDist, oCost, hDist+oCost, node[0]])\n",
    "            \n",
    "            elif any([i for i in range(len(queue)) if queue[i][0] == [node[0][0]+x,node[0][1]] and queue[i][3] > hDist+oCost]):    \n",
    "                # If the node exists in the queue, and the new score is lower, update the node\n",
    "                index = [i for i in range(len(queue)) if queue[i][0] == [node[0][0]+x,node[0][1]] and queue[i][3] > hDist+oCost][0]\n",
    "                queue[index] = [[node[0][0]+x,node[0][1]], hDist, oCost, hDist+oCost, node[0]]\n",
    "                \n",
    "        if not any([node[0][0],node[0][1]+x] == closed[i][0] for i in range(len(closed))) and world[node[0][0]][node[0][1]+x] != 1:\n",
    "            # Evaluate left and right of current node\n",
    "            # Find current heuristic and path cost\n",
    "            oCost = node[2] + 1\n",
    "            hDist = np.sqrt((end[0] - node[0][0])**2 + (end[1] - node[0][1]+x)**2)\n",
    "            \n",
    "            if not any([node[0][0],node[0][1]+x] == queue[i][0] for i in range(len(queue))):\n",
    "                # Append node child to queue if it is not yet in it\n",
    "                queue.append([[node[0][0],node[0][1]+x], hDist, oCost, hDist+oCost, node[0]])\n",
    "            \n",
    "            elif any([i for i in range(len(queue)) if queue[i][0] == [node[0][0],node[0][1]+x] and queue[i][3] > hDist+oCost]):\n",
    "                # If the node exists in the queue, and the new score is lower, update the node\n",
    "                index = [i for i in range(len(queue)) if queue[i][0] == [node[0][0],node[0][1]+x] and queue[i][3] > hDist+oCost][0]\n",
    "                queue[index] = [[node[0][0],node[0][1]+x], hDist, oCost, hDist+oCost, node[0]]\n",
    "            \n",
    "    queue.sort(key=lambda x: x[3])"
   ]
  },
  {
   "cell_type": "code",
   "execution_count": 87,
   "metadata": {},
   "outputs": [
    {
     "data": {
      "text/plain": [
       "[<matplotlib.lines.Line2D at 0x11bc29780>]"
      ]
     },
     "execution_count": 87,
     "metadata": {},
     "output_type": "execute_result"
    },
    {
     "data": {
      "image/png": "[encoded data removed]",
      "text/plain": [
       "<matplotlib.figure.Figure at 0x11bc29da0>"
      ]
     },
     "metadata": {},
     "output_type": "display_data"
    }
   ],
   "source": [
    "plt.imshow(world, cmap='binary')\n",
    "\n",
    "# Trace ideal path back to beginning\n",
    "parent = [end]\n",
    "while parent[0] != start:\n",
    "    plt.plot(parent[0][1],parent[0][0], marker='o', color='red')\n",
    "    parent = [closed[x][4] for x in range(len(closed)) if closed[x][0] == parent[0]]\n",
    "    \n",
    "plt.plot(parent[0][1],parent[0][0], marker='o', color='red')"
   ]
  },
  {
   "cell_type": "code",
   "execution_count": null,
   "metadata": {},
   "outputs": [],
   "source": []
  }
 ],
 "metadata": {
  "kernelspec": {
   "display_name": "Python 3",
   "language": "python",
   "name": "python3"
  },
  "language_info": {
   "codemirror_mode": {
    "name": "ipython",
    "version": 3
   },
   "file_extension": ".py",
   "mimetype": "text/x-python",
   "name": "python",
   "nbconvert_exporter": "python",
   "pygments_lexer": "ipython3",
   "version": "3.6.4"
  }
 },
 "nbformat": 4,
 "nbformat_minor": 2
}
