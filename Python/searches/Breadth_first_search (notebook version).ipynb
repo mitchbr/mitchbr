{
 "cells": [
  {
   "cell_type": "code",
   "execution_count": 13,
   "metadata": {},
   "outputs": [
    {
     "data": {
      "text/plain": [
       "<matplotlib.image.AxesImage at 0x112090f28>"
      ]
     },
     "execution_count": 13,
     "metadata": {},
     "output_type": "execute_result"
    },
    {
     "data": {
      "image/png": "[encoded data removed]",
      "text/plain": [
       "<matplotlib.figure.Figure at 0x11235f5f8>"
      ]
     },
     "metadata": {},
     "output_type": "display_data"
    }
   ],
   "source": [
    "import numpy as np\n",
    "import pandas as pd\n",
    "import matplotlib.pyplot as plt\n",
    "\n",
    "# Import the world\n",
    "rawworld = np.genfromtxt('world.csv', delimiter=',')\n",
    "\n",
    "# Transfer world into a new array with walls all around to avoid edge cases\n",
    "world = np.ones((np.size(rawworld,1)+2,np.size(rawworld,1)+2))\n",
    "world[1:-1,1:-1] = rawworld\n",
    "\n",
    "plt.imshow(world, cmap='binary')"
   ]
  },
  {
   "cell_type": "code",
   "execution_count": 14,
   "metadata": {},
   "outputs": [],
   "source": [
    "# Starting and finishing points\n",
    "start = [1,1]\n",
    "finish = [20,20]"
   ]
  },
  {
   "cell_type": "code",
   "execution_count": 15,
   "metadata": {},
   "outputs": [
    {
     "data": {
      "image/png": "[encoded data removed]",
      "text/plain": [
       "<matplotlib.figure.Figure at 0x1120115c0>"
      ]
     },
     "metadata": {},
     "output_type": "display_data"
    }
   ],
   "source": [
    "# queue contains open nodes\n",
    "queue = [[start,start]]\n",
    "\n",
    "# closed contains closed nodes\n",
    "closed = []\n",
    "\n",
    "plt.imshow(world, cmap='binary')\n",
    "\n",
    "# Iterate while queue has items in it\n",
    "while queue:\n",
    "    \n",
    "    # Pull the node off the queue\n",
    "    node = queue.pop(0)\n",
    "\n",
    "    # Add the current node to closed, preventing it from being opened later\n",
    "    closed.append(node)\n",
    "    \n",
    "    plt.plot(node[0][1],node[0][0], marker='o', color='red')\n",
    "\n",
    "    # Check if an unknown cell has been reached\n",
    "    if node[0] == finish:\n",
    "            queue = []\n",
    "\n",
    "    # Open children in a 4-connected region\n",
    "    # Only opens if it is not already in the queue, has not been closed, and is not a wall\n",
    "    for x in [-1,1]:\n",
    "        if not any([i for i in range(len(queue)) if queue[i][0] == [node[0][0]+x,node[0][1]]]) and not any([i for i in range(len(closed)) if closed[i][0] == [node[0][0]+x,node[0][1]]]) and world[node[0][0]+x,node[0][1]] != 1:\n",
    "            queue.append([[node[0][0]+x,node[0][1]], node[0]])\n",
    "        if not any([i for i in range(len(queue)) if queue[i][0] == [node[0][0],node[0][1]+x]]) and not any([i for i in range(len(closed)) if closed[i][0] == [node[0][0],node[0][1]+x]]) and world[node[0][0],node[0][1]+x] != 1:\n",
    "            queue.append([[node[0][0],node[0][1]+x], node[0]])\n",
    "            \n",
    "            \n",
    "            "
   ]
  },
  {
   "cell_type": "code",
   "execution_count": 16,
   "metadata": {},
   "outputs": [
    {
     "data": {
      "text/plain": [
       "[<matplotlib.lines.Line2D at 0x112061128>]"
      ]
     },
     "execution_count": 16,
     "metadata": {},
     "output_type": "execute_result"
    },
    {
     "data": {
      "image/png": "[encoded data removed]",
      "text/plain": [
       "<matplotlib.figure.Figure at 0x112061710>"
      ]
     },
     "metadata": {},
     "output_type": "display_data"
    }
   ],
   "source": [
    "plt.imshow(world, cmap='binary')\n",
    "\n",
    "# Trace ideal path back to beginning\n",
    "parent = [finish]\n",
    "while parent[0] != start:\n",
    "    plt.plot(parent[0][1],parent[0][0], marker='o', color='red')\n",
    "    parent = [closed[x][1] for x in range(len(closed)) if closed[x][0] == parent[0]]\n",
    "    \n",
    "plt.plot(parent[0][1],parent[0][0], marker='o', color='red')\n"
   ]
  },
  {
   "cell_type": "code",
   "execution_count": null,
   "metadata": {},
   "outputs": [],
   "source": []
  }
 ],
 "metadata": {
  "kernelspec": {
   "display_name": "Python 3",
   "language": "python",
   "name": "python3"
  },
  "language_info": {
   "codemirror_mode": {
    "name": "ipython",
    "version": 3
   },
   "file_extension": ".py",
   "mimetype": "text/x-python",
   "name": "python",
   "nbconvert_exporter": "python",
   "pygments_lexer": "ipython3",
   "version": "3.6.4"
  }
 },
 "nbformat": 4,
 "nbformat_minor": 2
}
